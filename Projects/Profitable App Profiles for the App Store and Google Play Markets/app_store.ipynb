{
 "cells": [
  {
   "cell_type": "markdown",
   "metadata": {
    "collapsed": true
   },
   "source": [
    "## Profitable app profiles in Google Playstore and Apple Store\n",
    "\n",
    "\n",
    "I have a plan to develop an app for add revenue only and focus on free apps (English only). The goal of this project is to get an overview of possible app profiles that could be profitable.\n",
    "\n",
    "\n",
    "As of September 2018, there were approximately 2 million iOS apps available on the App Store, and 2.1 million Android apps on Google Play. On Kaggle I found 2 datasets containing a sample of all available apps to start our investigation.\n",
    "\n",
    "Direct download of the datasets:\n",
    "* [Google Playstore](https://www.kaggle.com/lava18/google-play-store-apps) containing ~ 10 000 apps\n",
    "* [Apple iOS](https://www.kaggle.com/ramamet4/app-store-apple-data-set-10k-apps) containing ~ 7 000 apps\n",
    "\n"
   ]
  },
  {
   "cell_type": "markdown",
   "metadata": {},
   "source": [
    "__Read and explore the datasets__\n",
    "\n",
    "Create a list of lists for both."
   ]
  },
  {
   "cell_type": "code",
   "execution_count": 1,
   "metadata": {},
   "outputs": [],
   "source": [
    "from csv import reader"
   ]
  },
  {
   "cell_type": "code",
   "execution_count": 2,
   "metadata": {},
   "outputs": [
    {
     "name": "stdout",
     "output_type": "stream",
     "text": [
      "Google columns\n",
      "['App', 'Category', 'Rating', 'Reviews', 'Size', 'Installs', 'Type', 'Price', 'Content Rating', 'Genres', 'Last Updated', 'Current Ver', 'Android Ver']\n",
      "\n",
      "Apple columns\n",
      "['id', 'track_name', 'size_bytes', 'currency', 'price', 'rating_count_tot', 'rating_count_ver', 'user_rating', 'user_rating_ver', 'ver', 'cont_rating', 'prime_genre', 'sup_devices.num', 'ipadSc_urls.num', 'lang.num', 'vpp_lic']\n"
     ]
    }
   ],
   "source": [
    "open_goog = open('googleplaystore.csv', encoding='utf8')\n",
    "open_appl = open('AppleStore.csv', encoding='utf8')\n",
    "\n",
    "read_goog = reader(open_goog)\n",
    "read_appl = reader(open_appl)\n",
    "\n",
    "goog_data = list(read_goog)\n",
    "appl_data = list(read_appl)\n",
    "\n",
    "print(\"Google columns\")\n",
    "print(goog_data[0])\n",
    "print('\\nApple columns')\n",
    "print(appl_data[0])"
   ]
  },
  {
   "cell_type": "markdown",
   "metadata": {},
   "source": [
    "Not all columns in the apple dataset are self-explanatory . A summary with there meaning can be found  here [documentation](https://www.kaggle.com/ramamet4/app-store-apple-data-set-10k-apps/home)"
   ]
  },
  {
   "cell_type": "code",
   "execution_count": 3,
   "metadata": {
    "scrolled": true
   },
   "outputs": [
    {
     "name": "stdout",
     "output_type": "stream",
     "text": [
      "Google column and index number:\n",
      "{'App': 0, 'Category': 1, 'Rating': 2, 'Reviews': 3, 'Size': 4, 'Installs': 5, 'Type': 6, 'Price': 7, 'Content Rating': 8, 'Genres': 9, 'Last Updated': 10, 'Current Ver': 11, 'Android Ver': 12}\n",
      "\n",
      "Apple column and index number:\n",
      "{'id': 13, 'track_name': 14, 'size_bytes': 15, 'currency': 16, 'price': 17, 'rating_count_tot': 18, 'rating_count_ver': 19, 'user_rating': 20, 'user_rating_ver': 21, 'ver': 22, 'cont_rating': 23, 'prime_genre': 24, 'sup_devices.num': 25, 'ipadSc_urls.num': 26, 'lang.num': 27, 'vpp_lic': 28}\n"
     ]
    }
   ],
   "source": [
    "appl_index = {}\n",
    "goog_index = {}\n",
    "n = 0\n",
    "goog_head = goog_data[0]\n",
    "appl_head = appl_data[0]\n",
    "for i in goog_head:\n",
    "    goog_index[i] = n\n",
    "    n+=1\n",
    "for i in appl_head:\n",
    "    appl_index[i] = n\n",
    "    n+=1\n",
    "print(\"Google column and index number:\")    \n",
    "print(goog_index)\n",
    "print(\"\\nApple column and index number:\")   \n",
    "print(appl_index)    "
   ]
  },
  {
   "cell_type": "markdown",
   "metadata": {},
   "source": [
    "#### Create a function to explore the data"
   ]
  },
  {
   "cell_type": "code",
   "execution_count": 4,
   "metadata": {},
   "outputs": [],
   "source": [
    "def explore_data (dataset, start, end, rows_and_columns=False):\n",
    "    dataset_slice = dataset[start:end]\n",
    "    for row in dataset_slice:\n",
    "        print(row)\n",
    "        print('\\n') # Empty line for readability        \n",
    "    if rows_and_columns:\n",
    "        print('Number of rows:', len(dataset))\n",
    "        print('Number of columns:', len(dataset[0]))"
   ]
  },
  {
   "cell_type": "code",
   "execution_count": 5,
   "metadata": {},
   "outputs": [
    {
     "name": "stdout",
     "output_type": "stream",
     "text": [
      "['App', 'Category', 'Rating', 'Reviews', 'Size', 'Installs', 'Type', 'Price', 'Content Rating', 'Genres', 'Last Updated', 'Current Ver', 'Android Ver']\n",
      "\n",
      "\n",
      "['Photo Editor & Candy Camera & Grid & ScrapBook', 'ART_AND_DESIGN', '4.1', '159', '19M', '10,000+', 'Free', '0', 'Everyone', 'Art & Design', 'January 7, 2018', '1.0.0', '4.0.3 and up']\n",
      "\n",
      "\n",
      "['Coloring book moana', 'ART_AND_DESIGN', '3.9', '967', '14M', '500,000+', 'Free', '0', 'Everyone', 'Art & Design;Pretend Play', 'January 15, 2018', '2.0.0', '4.0.3 and up']\n",
      "\n",
      "\n",
      "['U Launcher Lite – FREE Live Cool Themes, Hide Apps', 'ART_AND_DESIGN', '4.7', '87510', '8.7M', '5,000,000+', 'Free', '0', 'Everyone', 'Art & Design', 'August 1, 2018', '1.2.4', '4.0.3 and up']\n",
      "\n",
      "\n",
      "['Sketch - Draw & Paint', 'ART_AND_DESIGN', '4.5', '215644', '25M', '50,000,000+', 'Free', '0', 'Teen', 'Art & Design', 'June 8, 2018', 'Varies with device', '4.2 and up']\n",
      "\n",
      "\n",
      "Number of rows: 10842\n",
      "Number of columns: 13\n"
     ]
    }
   ],
   "source": [
    "explore_data(goog_data, 0,5, 1)"
   ]
  },
  {
   "cell_type": "code",
   "execution_count": 6,
   "metadata": {},
   "outputs": [
    {
     "name": "stdout",
     "output_type": "stream",
     "text": [
      "['284882215', 'Facebook', '389879808', 'USD', '0.0', '2974676', '212', '3.5', '3.5', '95.0', '4+', 'Social Networking', '37', '1', '29', '1']\n",
      "\n",
      "\n",
      "['389801252', 'Instagram', '113954816', 'USD', '0.0', '2161558', '1289', '4.5', '4.0', '10.23', '12+', 'Photo & Video', '37', '0', '29', '1']\n",
      "\n",
      "\n",
      "['529479190', 'Clash of Clans', '116476928', 'USD', '0.0', '2130805', '579', '4.5', '4.5', '9.24.12', '9+', 'Games', '38', '5', '18', '1']\n",
      "\n",
      "\n",
      "['420009108', 'Temple Run', '65921024', 'USD', '0.0', '1724546', '3842', '4.5', '4.0', '1.6.2', '9+', 'Games', '40', '5', '1', '1']\n",
      "\n",
      "\n",
      "Number of rows: 7198\n",
      "Number of columns: 16\n"
     ]
    }
   ],
   "source": [
    "explore_data(appl_data, 1,5, 1)"
   ]
  },
  {
   "cell_type": "markdown",
   "metadata": {},
   "source": [
    "### Cleaning the data\n",
    "\n",
    "When I read the active discussion on the Google dataset hosted at Kaggle there is a discussion on row 10473 the app has rating of 19 on a scale of 5. Because 1 app does not have much impact on the dataset I decide to delete this one"
   ]
  },
  {
   "cell_type": "code",
   "execution_count": 7,
   "metadata": {},
   "outputs": [
    {
     "name": "stdout",
     "output_type": "stream",
     "text": [
      "[['Xposed Wi-Fi-Pwd', 'PERSONALIZATION', '3.5', '1042', '404k', '100,000+', 'Free', '0', 'Everyone', 'Personalization', 'August 5, 2014', '3.0.0', '4.0.3 and up'], ['Life Made WI-Fi Touchscreen Photo Frame', '1.9', '19', '3.0M', '1,000+', 'Free', '0', 'Everyone', '', 'February 11, 2018', '1.0.19', '4.0 and up']]\n"
     ]
    }
   ],
   "source": [
    "print(goog_data[10472:10474])"
   ]
  },
  {
   "cell_type": "code",
   "execution_count": 8,
   "metadata": {},
   "outputs": [],
   "source": [
    "del(goog_data[10473])"
   ]
  },
  {
   "cell_type": "markdown",
   "metadata": {},
   "source": [
    "### Check dataset for duplicate apps\n",
    "I\n",
    "create 2 lists and check if an app exists in the first list. If it exists add it to the list of duplicate items"
   ]
  },
  {
   "cell_type": "code",
   "execution_count": 9,
   "metadata": {},
   "outputs": [
    {
     "name": "stdout",
     "output_type": "stream",
     "text": [
      "Number of duplicate apps: 1181\n",
      "\n",
      "Examples:\n",
      " ['Quick PDF Scanner + OCR FREE', 'Box', 'Google My Business', 'ZOOM Cloud Meetings', 'join.me - Simple Meetings', 'Box', 'Zenefits', 'Google Ads', 'Google My Business', 'Slack']\n"
     ]
    }
   ],
   "source": [
    "duplicate_apps = []\n",
    "unique_apps = []\n",
    "for app in goog_data:\n",
    "    name = app[0]\n",
    "    if name in unique_apps:\n",
    "        duplicate_apps.append(name)\n",
    "    else :\n",
    "        unique_apps.append(name)\n",
    "        \n",
    "print(\"Number of duplicate apps:\", len (duplicate_apps))\n",
    "print(\"\\nExamples:\\n\", duplicate_apps[:10])"
   ]
  },
  {
   "cell_type": "markdown",
   "metadata": {},
   "source": [
    "#### To check how many times the duplicates exist  import Counter and sort most common"
   ]
  },
  {
   "cell_type": "code",
   "execution_count": 10,
   "metadata": {},
   "outputs": [
    {
     "data": {
      "text/plain": [
       "[('ROBLOX', 8),\n",
       " ('CBS Sports App - Scores, News, Stats & Watch Live', 7),\n",
       " ('Duolingo: Learn Languages Free', 6),\n",
       " ('8 Ball Pool', 6),\n",
       " ('Candy Crush Saga', 6),\n",
       " ('ESPN', 6),\n",
       " ('Nick', 5),\n",
       " ('Subway Surfers', 5),\n",
       " ('Bubble Shooter', 5),\n",
       " ('Sniper 3D Gun Shooter: Free Shooting Games - FPS', 5)]"
      ]
     },
     "execution_count": 10,
     "metadata": {},
     "output_type": "execute_result"
    }
   ],
   "source": [
    "from collections import Counter\n",
    "Counter(duplicate_apps).most_common(10)"
   ]
  },
  {
   "cell_type": "code",
   "execution_count": 11,
   "metadata": {},
   "outputs": [
    {
     "name": "stdout",
     "output_type": "stream",
     "text": [
      "['ESPN', 'SPORTS', '4.2', '521138', 'Varies with device', '10,000,000+', 'Free', '0', 'Everyone 10+', 'Sports', 'July 19, 2018', 'Varies with device', '5.0 and up']\n",
      "['ESPN', 'SPORTS', '4.2', '521138', 'Varies with device', '10,000,000+', 'Free', '0', 'Everyone 10+', 'Sports', 'July 19, 2018', 'Varies with device', '5.0 and up']\n",
      "['ESPN', 'SPORTS', '4.2', '521138', 'Varies with device', '10,000,000+', 'Free', '0', 'Everyone 10+', 'Sports', 'July 19, 2018', 'Varies with device', '5.0 and up']\n",
      "['ESPN', 'SPORTS', '4.2', '521140', 'Varies with device', '10,000,000+', 'Free', '0', 'Everyone 10+', 'Sports', 'July 19, 2018', 'Varies with device', '5.0 and up']\n",
      "['ESPN', 'SPORTS', '4.2', '521140', 'Varies with device', '10,000,000+', 'Free', '0', 'Everyone 10+', 'Sports', 'July 19, 2018', 'Varies with device', '5.0 and up']\n",
      "['ESPN', 'SPORTS', '4.2', '521140', 'Varies with device', '10,000,000+', 'Free', '0', 'Everyone 10+', 'Sports', 'July 19, 2018', 'Varies with device', '5.0 and up']\n",
      "['ESPN', 'SPORTS', '4.2', '521081', 'Varies with device', '10,000,000+', 'Free', '0', 'Everyone 10+', 'Sports', 'July 19, 2018', 'Varies with device', '5.0 and up']\n"
     ]
    }
   ],
   "source": [
    "for app in goog_data:\n",
    "    name = app[0]\n",
    "    if name == \"ESPN\":\n",
    "        print(app)"
   ]
  },
  {
   "cell_type": "markdown",
   "metadata": {},
   "source": [
    "#### After inspecting duplicates I keep the newest and use max reviews as parameter. I create a dictionary to store max reviews for every app."
   ]
  },
  {
   "cell_type": "code",
   "execution_count": 12,
   "metadata": {},
   "outputs": [],
   "source": [
    "max_reviews= {}\n",
    "for row in goog_data[1:]:\n",
    "    name = row[0]\n",
    "    n_reviews = float(row[3])\n",
    "    if not name in max_reviews:\n",
    "        max_reviews[name]= n_reviews\n",
    "    else:\n",
    "        if n_reviews > max_reviews[name]:\n",
    "            max_reviews[name] = n_reviews        "
   ]
  },
  {
   "cell_type": "code",
   "execution_count": 13,
   "metadata": {},
   "outputs": [
    {
     "name": "stdout",
     "output_type": "stream",
     "text": [
      "Expected length: 9659\n",
      "Actual length: 9659\n"
     ]
    }
   ],
   "source": [
    "print('Expected length:', len(goog_data) - 1181 -1 ) # I have deleted 1 faulty item and 1181 duplicates\n",
    "print('Actual length:', len(max_reviews))"
   ]
  },
  {
   "cell_type": "markdown",
   "metadata": {},
   "source": [
    "#### Check if the length of our duplicate list corresponds with  original list - duplicates - faulty items. Now I can clean the dataset and keep apps where reviews equals max_revieuws"
   ]
  },
  {
   "cell_type": "code",
   "execution_count": 14,
   "metadata": {},
   "outputs": [],
   "source": [
    "goog_clean = []\n",
    "already_added = []\n",
    "\n",
    "for row in goog_data[1:]:\n",
    "    name = row[0]\n",
    "    n_reviews = float(row[3]) ##let op converteren naar float\n",
    "    if (n_reviews == max_reviews[name])and (name not in already_added ): ## let op lijst kan dubbele waardes bevatten\n",
    "        goog_clean.append(row)\n",
    "        already_added.append(name)"
   ]
  },
  {
   "cell_type": "code",
   "execution_count": 15,
   "metadata": {},
   "outputs": [
    {
     "name": "stdout",
     "output_type": "stream",
     "text": [
      "['Photo Editor & Candy Camera & Grid & ScrapBook', 'ART_AND_DESIGN', '4.1', '159', '19M', '10,000+', 'Free', '0', 'Everyone', 'Art & Design', 'January 7, 2018', '1.0.0', '4.0.3 and up']\n",
      "\n",
      "\n",
      "['U Launcher Lite – FREE Live Cool Themes, Hide Apps', 'ART_AND_DESIGN', '4.7', '87510', '8.7M', '5,000,000+', 'Free', '0', 'Everyone', 'Art & Design', 'August 1, 2018', '1.2.4', '4.0.3 and up']\n",
      "\n",
      "\n",
      "['Sketch - Draw & Paint', 'ART_AND_DESIGN', '4.5', '215644', '25M', '50,000,000+', 'Free', '0', 'Teen', 'Art & Design', 'June 8, 2018', 'Varies with device', '4.2 and up']\n",
      "\n",
      "\n",
      "Number of rows: 9659\n",
      "Number of columns: 13\n"
     ]
    }
   ],
   "source": [
    "explore_data(goog_clean, 0, 3, True)"
   ]
  },
  {
   "cell_type": "markdown",
   "metadata": {},
   "source": [
    "### Removing non English and non free apps\n",
    "\n",
    "My goal is to find a profitable app in the English speaking market. In the datasets are apps that are obviously non English.  To remove all non English apps I use the ascii number of characters anything above 127 is a non common English character. To keep emoticons and trademark logos in I decide to filter only if length of these strings with characters above 127 is bigger then 3"
   ]
  },
  {
   "cell_type": "code",
   "execution_count": 16,
   "metadata": {},
   "outputs": [
    {
     "name": "stdout",
     "output_type": "stream",
     "text": [
      "中国語 AQリスニング\n",
      "لعبة تقدر تربح DZ\n"
     ]
    }
   ],
   "source": [
    "print(goog_clean[4412][0])\n",
    "print(goog_clean[7940][0])"
   ]
  },
  {
   "cell_type": "code",
   "execution_count": 17,
   "metadata": {},
   "outputs": [],
   "source": [
    "def is_english(string):\n",
    "    n = 0\n",
    "    for char in string:\n",
    "        if ord(char) > 127:\n",
    "            n+=1\n",
    "    if n > 3:        \n",
    "        return False\n",
    "    else:       \n",
    "        return True        "
   ]
  },
  {
   "cell_type": "code",
   "execution_count": 18,
   "metadata": {},
   "outputs": [
    {
     "name": "stdout",
     "output_type": "stream",
     "text": [
      "['Photo Editor & Candy Camera & Grid & ScrapBook', 'ART_AND_DESIGN', '4.1', '159', '19M', '10,000+', 'Free', '0', 'Everyone', 'Art & Design', 'January 7, 2018', '1.0.0', '4.0.3 and up']\n",
      "\n",
      "\n",
      "['U Launcher Lite – FREE Live Cool Themes, Hide Apps', 'ART_AND_DESIGN', '4.7', '87510', '8.7M', '5,000,000+', 'Free', '0', 'Everyone', 'Art & Design', 'August 1, 2018', '1.2.4', '4.0.3 and up']\n",
      "\n",
      "\n",
      "['Sketch - Draw & Paint', 'ART_AND_DESIGN', '4.5', '215644', '25M', '50,000,000+', 'Free', '0', 'Teen', 'Art & Design', 'June 8, 2018', 'Varies with device', '4.2 and up']\n",
      "\n",
      "\n",
      "Number of rows: 9614\n",
      "Number of columns: 13\n",
      "\n",
      "\n",
      "['id', 'track_name', 'size_bytes', 'currency', 'price', 'rating_count_tot', 'rating_count_ver', 'user_rating', 'user_rating_ver', 'ver', 'cont_rating', 'prime_genre', 'sup_devices.num', 'ipadSc_urls.num', 'lang.num', 'vpp_lic']\n",
      "\n",
      "\n",
      "['284882215', 'Facebook', '389879808', 'USD', '0.0', '2974676', '212', '3.5', '3.5', '95.0', '4+', 'Social Networking', '37', '1', '29', '1']\n",
      "\n",
      "\n",
      "['389801252', 'Instagram', '113954816', 'USD', '0.0', '2161558', '1289', '4.5', '4.0', '10.23', '12+', 'Photo & Video', '37', '0', '29', '1']\n",
      "\n",
      "\n",
      "Number of rows: 6184\n",
      "Number of columns: 16\n"
     ]
    }
   ],
   "source": [
    "android_english = []\n",
    "ios_english = []\n",
    "\n",
    "for app in goog_clean:\n",
    "    name = app[0]\n",
    "    if is_english(name):\n",
    "        android_english.append(app)\n",
    "        \n",
    "for app in appl_data:\n",
    "    name = app[1]\n",
    "    if is_english(name):\n",
    "        ios_english.append(app)\n",
    "        \n",
    "explore_data(android_english, 0, 3, True)\n",
    "print('\\n')\n",
    "explore_data(ios_english, 0, 3, True)"
   ]
  },
  {
   "cell_type": "markdown",
   "metadata": {},
   "source": [
    "Create a new list with only English and free apps. When checking the lists there is a big drop in the iOS app numbers due to paid apps."
   ]
  },
  {
   "cell_type": "code",
   "execution_count": 19,
   "metadata": {},
   "outputs": [
    {
     "name": "stdout",
     "output_type": "stream",
     "text": [
      "Number of apps in final Android set: 8864\n",
      "Number of apps in final iOS set: 3222\n"
     ]
    }
   ],
   "source": [
    "android_final = []\n",
    "ios_final = []\n",
    "\n",
    "for app in android_english:\n",
    "    price = app[7]\n",
    "    if price == '0':\n",
    "        android_final.append(app)\n",
    "        \n",
    "for app in ios_english:\n",
    "    price = app[4]\n",
    "    if price == '0.0':\n",
    "        ios_final.append(app)\n",
    "        \n",
    "print(\"Number of apps in final Android set:\", len(android_final))\n",
    "print(\"Number of apps in final iOS set:\",len(ios_final))"
   ]
  },
  {
   "cell_type": "markdown",
   "metadata": {},
   "source": [
    "### Explore populair genres on Androis and iOS\n",
    "\n",
    "Create a function that takes in dataset and index number of the column and creates a frequency table. A second function will sort the percentages (descendng)"
   ]
  },
  {
   "cell_type": "code",
   "execution_count": 20,
   "metadata": {},
   "outputs": [],
   "source": [
    "def freq_table(dataset, index):\n",
    "    table = {}\n",
    "    total = 0\n",
    "    for row in dataset:\n",
    "        genre = row[index]\n",
    "        if genre in table:\n",
    "            table[genre] += 1\n",
    "            total +=1\n",
    "        else :\n",
    "            table[genre]=1\n",
    "            total +=1    \n",
    "    for key in table:\n",
    "        table[key] /= total\n",
    "        table[key] *= 100\n",
    "        table[key] = round(table[key],2)         \n",
    "    return table\n",
    "\n",
    "def display_table(dataset, index):\n",
    "    table = freq_table(dataset, index)\n",
    "    table_display = []\n",
    "    for key in table:\n",
    "        key_val_as_tuple = (table[key], key)\n",
    "        table_display.append(key_val_as_tuple)\n",
    "    table_sorted = sorted(table_display, reverse = True)\n",
    "    #print(table_sorted) first switch key and value and save as tuple, make list of tuples\n",
    "    for entry in table_sorted:\n",
    "        print(entry[1],\",\",entry[0])  "
   ]
  },
  {
   "cell_type": "code",
   "execution_count": 21,
   "metadata": {},
   "outputs": [
    {
     "name": "stdout",
     "output_type": "stream",
     "text": [
      "Android category and percentage\n",
      "FAMILY , 18.91\n",
      "GAME , 9.72\n",
      "TOOLS , 8.46\n",
      "BUSINESS , 4.59\n",
      "LIFESTYLE , 3.9\n",
      "PRODUCTIVITY , 3.89\n",
      "FINANCE , 3.7\n",
      "MEDICAL , 3.53\n",
      "SPORTS , 3.4\n",
      "PERSONALIZATION , 3.32\n",
      "COMMUNICATION , 3.24\n",
      "HEALTH_AND_FITNESS , 3.08\n",
      "PHOTOGRAPHY , 2.94\n",
      "NEWS_AND_MAGAZINES , 2.8\n",
      "SOCIAL , 2.66\n",
      "TRAVEL_AND_LOCAL , 2.34\n",
      "SHOPPING , 2.25\n",
      "BOOKS_AND_REFERENCE , 2.14\n",
      "DATING , 1.86\n",
      "VIDEO_PLAYERS , 1.79\n",
      "MAPS_AND_NAVIGATION , 1.4\n",
      "FOOD_AND_DRINK , 1.24\n",
      "EDUCATION , 1.16\n",
      "ENTERTAINMENT , 0.96\n",
      "LIBRARIES_AND_DEMO , 0.94\n",
      "AUTO_AND_VEHICLES , 0.93\n",
      "HOUSE_AND_HOME , 0.82\n",
      "WEATHER , 0.8\n",
      "EVENTS , 0.71\n",
      "PARENTING , 0.65\n",
      "ART_AND_DESIGN , 0.64\n",
      "COMICS , 0.62\n",
      "BEAUTY , 0.6\n"
     ]
    }
   ],
   "source": [
    "print(\"Android category and percentage\")\n",
    "display_table(android_final, 1)"
   ]
  },
  {
   "cell_type": "code",
   "execution_count": 22,
   "metadata": {},
   "outputs": [
    {
     "name": "stdout",
     "output_type": "stream",
     "text": [
      "iOS genre and percentage\n",
      "Games , 58.16\n",
      "Entertainment , 7.88\n",
      "Photo & Video , 4.97\n",
      "Education , 3.66\n",
      "Social Networking , 3.29\n",
      "Shopping , 2.61\n",
      "Utilities , 2.51\n",
      "Sports , 2.14\n",
      "Music , 2.05\n",
      "Health & Fitness , 2.02\n",
      "Productivity , 1.74\n",
      "Lifestyle , 1.58\n",
      "News , 1.33\n",
      "Travel , 1.24\n",
      "Finance , 1.12\n",
      "Weather , 0.87\n",
      "Food & Drink , 0.81\n",
      "Reference , 0.56\n",
      "Business , 0.53\n",
      "Book , 0.43\n",
      "Navigation , 0.19\n",
      "Medical , 0.19\n",
      "Catalogs , 0.12\n"
     ]
    }
   ],
   "source": [
    "print(\"iOS genre and percentage\")\n",
    "display_table(ios_final, -5)"
   ]
  },
  {
   "cell_type": "markdown",
   "metadata": {},
   "source": [
    "The genre and category distribution on Google and IOS look different. iOS is skewed towards Games and entertainment while Android has more practical apps. Because I will first develop an Android version I will investigate this further.\n",
    "\n",
    "First create a dictionary with total number of reviews per category to see which category is most populair."
   ]
  },
  {
   "cell_type": "code",
   "execution_count": 23,
   "metadata": {},
   "outputs": [
    {
     "name": "stdout",
     "output_type": "stream",
     "text": [
      "[('WEATHER', 171251), ('VIDEO_PLAYERS', 425350), ('TRAVEL_AND_LOCAL', 129484), ('TOOLS', 305733), ('SPORTS', 116939), ('SOCIAL', 965831), ('SHOPPING', 223887), ('PRODUCTIVITY', 160635), ('PHOTOGRAPHY', 404081), ('PERSONALIZATION', 181122), ('PARENTING', 16379), ('NEWS_AND_MAGAZINES', 93088), ('MEDICAL', 3730), ('MAPS_AND_NAVIGATION', 142860), ('LIFESTYLE', 33922), ('LIBRARIES_AND_DEMO', 10926), ('HOUSE_AND_HOME', 26435), ('HEALTH_AND_FITNESS', 78095), ('GAME', 683524), ('FOOD_AND_DRINK', 57479), ('FINANCE', 38536), ('FAMILY', 113143), ('EVENTS', 2556), ('ENTERTAINMENT', 301752), ('EDUCATION', 56293), ('DATING', 21953), ('COMMUNICATION', 995608), ('COMICS', 42586), ('BUSINESS', 24240), ('BOOKS_AND_REFERENCE', 87995), ('BEAUTY', 7476), ('AUTO_AND_VEHICLES', 14140), ('ART_AND_DESIGN', 24699)]\n"
     ]
    }
   ],
   "source": [
    "android_cat = freq_table(android_final, 1)\n",
    "reviews_genre = {}\n",
    "\n",
    "for genre in android_cat:\n",
    "    total = 0\n",
    "    len_genre = 0\n",
    "    for app in android_final:\n",
    "        genre_app = app[1]\n",
    "        if genre_app == genre:\n",
    "            len_genre += 1\n",
    "            num_ratings = float(app[3])\n",
    "            total += num_ratings\n",
    "    avg_n_ratings = round(total / len_genre)\n",
    "    reviews_genre[genre]= avg_n_ratings\n",
    "\n",
    "genre_sorted = [] \n",
    "for key in reviews_genre:\n",
    "    genre_tuple = ( key,reviews_genre[key])\n",
    "    genre_sorted.append(genre_tuple)\n",
    "    \n",
    "print(sorted(genre_sorted,reverse = True))         "
   ]
  },
  {
   "cell_type": "code",
   "execution_count": null,
   "metadata": {},
   "outputs": [],
   "source": []
  },
  {
   "cell_type": "code",
   "execution_count": null,
   "metadata": {},
   "outputs": [],
   "source": []
  },
  {
   "cell_type": "code",
   "execution_count": 24,
   "metadata": {},
   "outputs": [
    {
     "name": "stdout",
     "output_type": "stream",
     "text": [
      "Category and number of installs \n",
      "\n"
     ]
    },
    {
     "ename": "NameError",
     "evalue": "name 'freq_goog' is not defined",
     "output_type": "error",
     "traceback": [
      "\u001b[1;31m---------------------------------------------------------------------------\u001b[0m",
      "\u001b[1;31mNameError\u001b[0m                                 Traceback (most recent call last)",
      "\u001b[1;32m<ipython-input-24-1d9fffdeb4fc>\u001b[0m in \u001b[0;36m<module>\u001b[1;34m\u001b[0m\n\u001b[0;32m      1\u001b[0m \u001b[0mprint\u001b[0m\u001b[1;33m(\u001b[0m\u001b[1;34m\"Category and number of installs \\n\"\u001b[0m\u001b[1;33m)\u001b[0m\u001b[1;33m\u001b[0m\u001b[1;33m\u001b[0m\u001b[0m\n\u001b[0;32m      2\u001b[0m \u001b[1;33m\u001b[0m\u001b[0m\n\u001b[1;32m----> 3\u001b[1;33m \u001b[1;32mfor\u001b[0m \u001b[0mcat\u001b[0m \u001b[1;32min\u001b[0m \u001b[0mfreq_goog\u001b[0m\u001b[1;33m:\u001b[0m\u001b[1;33m\u001b[0m\u001b[1;33m\u001b[0m\u001b[0m\n\u001b[0m\u001b[0;32m      4\u001b[0m     \u001b[0mtotal\u001b[0m \u001b[1;33m=\u001b[0m \u001b[1;36m0\u001b[0m\u001b[1;33m\u001b[0m\u001b[1;33m\u001b[0m\u001b[0m\n\u001b[0;32m      5\u001b[0m     \u001b[0mlen_category\u001b[0m \u001b[1;33m=\u001b[0m \u001b[1;36m0\u001b[0m\u001b[1;33m\u001b[0m\u001b[1;33m\u001b[0m\u001b[0m\n",
      "\u001b[1;31mNameError\u001b[0m: name 'freq_goog' is not defined"
     ]
    }
   ],
   "source": [
    "print(\"Category and number of installs \\n\")\n",
    "\n",
    "for cat in freq_goog:\n",
    "    total = 0\n",
    "    len_category = 0\n",
    "    for app in android_final[1:]:\n",
    "        cat_app = app[1]\n",
    "        if cat_app == cat:\n",
    "            n_installs = app[5]\n",
    "            n_installs = n_installs.replace(',','')\n",
    "            n_installs = n_installs.replace('+','')\n",
    "            total += float(n_installs)\n",
    "            len_category +=1\n",
    "    avg_n_installs = total / (len_category)\n",
    "    print(cat, ':', int(avg_n_installs))                  "
   ]
  },
  {
   "cell_type": "code",
   "execution_count": null,
   "metadata": {},
   "outputs": [],
   "source": []
  },
  {
   "cell_type": "code",
   "execution_count": null,
   "metadata": {},
   "outputs": [],
   "source": []
  },
  {
   "cell_type": "code",
   "execution_count": null,
   "metadata": {},
   "outputs": [],
   "source": []
  }
 ],
 "metadata": {
  "kernelspec": {
   "display_name": "Python 3",
   "language": "python",
   "name": "python3"
  },
  "language_info": {
   "codemirror_mode": {
    "name": "ipython",
    "version": 3
   },
   "file_extension": ".py",
   "mimetype": "text/x-python",
   "name": "python",
   "nbconvert_exporter": "python",
   "pygments_lexer": "ipython3",
   "version": "3.7.4"
  }
 },
 "nbformat": 4,
 "nbformat_minor": 2
}
