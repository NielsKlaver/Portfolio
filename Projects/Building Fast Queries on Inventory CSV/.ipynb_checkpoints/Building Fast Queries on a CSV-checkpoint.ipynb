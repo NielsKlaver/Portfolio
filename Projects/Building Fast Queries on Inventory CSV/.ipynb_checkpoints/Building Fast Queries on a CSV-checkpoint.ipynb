{
 "cells": [
  {
   "cell_type": "markdown",
   "metadata": {},
   "source": [
    "# Building Fast Queries on a CSV\n",
    "## Reading the Inventory\n",
    "\n",
    "Use the csv module to read the inventory *.csv file and separate the header from the rows. In this project I create a custom Class to read our inventory fast from a csv file."
   ]
  },
  {
   "cell_type": "code",
   "execution_count": 2,
   "metadata": {},
   "outputs": [
    {
     "name": "stdout",
     "output_type": "stream",
     "text": [
      "['Id', 'Company', 'Product', 'TypeName', 'Inches', 'ScreenResolution', 'Cpu', 'Ram', 'Memory', 'Gpu', 'OpSys', 'Weight', 'Price']\n",
      "1303\n"
     ]
    }
   ],
   "source": [
    "import csv\n",
    "with open(\"laptops.csv\") as f:\n",
    "    reader = csv.reader(f)\n",
    "    rows = list(reader)\n",
    "    header = rows[0]\n",
    "    rows = rows[1:]\n",
    "\n",
    "print(header)   \n",
    "print(len(rows))"
   ]
  },
  {
   "cell_type": "code",
   "execution_count": 3,
   "metadata": {},
   "outputs": [
    {
     "name": "stdout",
     "output_type": "stream",
     "text": [
      "['6571244', 'Apple', 'MacBook Pro', 'Ultrabook', '13.3', 'IPS Panel Retina Display 2560x1600', 'Intel Core i5 2.3GHz', '8GB', '128GB SSD', 'Intel Iris Plus Graphics 640', 'macOS', '1.37kg', '1339']\n",
      "\n",
      "['7287764', 'Apple', 'Macbook Air', 'Ultrabook', '13.3', '1440x900', 'Intel Core i5 1.8GHz', '8GB', '128GB Flash Storage', 'Intel HD Graphics 6000', 'macOS', '1.34kg', '898']\n",
      "\n",
      "['3362737', 'HP', '250 G6', 'Notebook', '15.6', 'Full HD 1920x1080', 'Intel Core i5 7200U 2.5GHz', '8GB', '256GB SSD', 'Intel HD Graphics 620', 'No OS', '1.86kg', '575']\n",
      "\n"
     ]
    }
   ],
   "source": [
    "#Use a for loop for readability\n",
    "for row in rows[:3]:\n",
    "    print(str(row) + \"\\n\")"
   ]
  },
  {
   "cell_type": "markdown",
   "metadata": {},
   "source": [
    "## Create a new class to represent the inventory"
   ]
  },
  {
   "cell_type": "code",
   "execution_count": 4,
   "metadata": {},
   "outputs": [
    {
     "name": "stdout",
     "output_type": "stream",
     "text": [
      "['Id', 'Company', 'Product', 'TypeName', 'Inches', 'ScreenResolution', 'Cpu', 'Ram', 'Memory', 'Gpu', 'OpSys', 'Weight', 'Price']\n"
     ]
    }
   ],
   "source": [
    "class Inventory():\n",
    "    def __init__ (self, csv_filename):\n",
    "        with open(csv_filename) as f:\n",
    "            rows = list(csv.reader(f))\n",
    "        self.header = rows[0]\n",
    "        self.rows = rows[1:]\n",
    "        for row in self.rows:\n",
    "            row[-1] = int(row[-1])\n",
    "            \n",
    "\n",
    "#Test the class to see if headers and length match            \n",
    "inventory = Inventory('laptops.csv')  \n",
    "print(inventory.header)     "
   ]
  },
  {
   "cell_type": "code",
   "execution_count": 5,
   "metadata": {},
   "outputs": [
    {
     "name": "stdout",
     "output_type": "stream",
     "text": [
      "Length of file: 1303\n"
     ]
    }
   ],
   "source": [
    "print(\"Length of file:\",len(inventory.rows))     "
   ]
  },
  {
   "cell_type": "markdown",
   "metadata": {},
   "source": [
    "### Improve class with search on ID returns row"
   ]
  },
  {
   "cell_type": "code",
   "execution_count": 6,
   "metadata": {},
   "outputs": [],
   "source": [
    "class Inventory():\n",
    "    def __init__ (self, csv_filename):\n",
    "        with open(csv_filename) as f:\n",
    "            rows = list(csv.reader(f))\n",
    "        self.header = rows[0]\n",
    "        self.rows = rows[1:]\n",
    "        for row in self.rows:\n",
    "            row[-1] = int(row[-1])\n",
    "            \n",
    "  \n",
    "    def get_laptop_from_id(self, laptop_id):  \n",
    "        for row in self.rows:                  \n",
    "            if row[0] == laptop_id:\n",
    "                return row\n",
    "        return None                         "
   ]
  },
  {
   "cell_type": "code",
   "execution_count": 7,
   "metadata": {},
   "outputs": [
    {
     "name": "stdout",
     "output_type": "stream",
     "text": [
      "['3362737', 'HP', '250 G6', 'Notebook', '15.6', 'Full HD 1920x1080', 'Intel Core i5 7200U 2.5GHz', '8GB', '256GB SSD', 'Intel HD Graphics 620', 'No OS', '1.86kg', 575]\n",
      "None\n"
     ]
    }
   ],
   "source": [
    "#Test new lookup feature\n",
    "inventory = Inventory('laptops.csv')    \n",
    "#should find a match\n",
    "print(inventory.get_laptop_from_id('3362737')) \n",
    "#should not find a match\n",
    "print(inventory.get_laptop_from_id('000000000000')) "
   ]
  },
  {
   "cell_type": "markdown",
   "metadata": {
    "collapsed": true
   },
   "source": [
    "### Increase performance by reducing time complexity of the lookup we will build dictionary first."
   ]
  },
  {
   "cell_type": "code",
   "execution_count": 8,
   "metadata": {},
   "outputs": [],
   "source": [
    "class Inventory():                 \n",
    "    def __init__(self, csv_filename):\n",
    "        with open(csv_filename) as f: \n",
    "            reader = csv.reader(f)\n",
    "            rows = list(reader)\n",
    "        self.header = rows[0]        \n",
    "        self.rows = rows[1:]\n",
    "        for row in self.rows:              \n",
    "            row[-1] = int(row[-1])\n",
    "        #create dictionary key = id    \n",
    "        self.id_to_row = {}                         \n",
    "        for row in self.rows:                      \n",
    "            self.id_to_row[row[0]] = row \n",
    "    \n",
    "    def get_laptop_from_id(self, laptop_id):\n",
    "        for row in self.rows:                 \n",
    "            if row[0] == laptop_id:\n",
    "                return row\n",
    "        return None   \n",
    "    \n",
    "    def get_laptop_from_id_fast(self, laptop_id):   \n",
    "        if laptop_id in self.id_to_row:            \n",
    "            return self.id_to_row[laptop_id]\n",
    "        return None"
   ]
  },
  {
   "cell_type": "code",
   "execution_count": 9,
   "metadata": {},
   "outputs": [
    {
     "name": "stdout",
     "output_type": "stream",
     "text": [
      "['3362737', 'HP', '250 G6', 'Notebook', '15.6', 'Full HD 1920x1080', 'Intel Core i5 7200U 2.5GHz', '8GB', '256GB SSD', 'Intel HD Graphics 620', 'No OS', '1.86kg', 575]\n",
      "None\n"
     ]
    }
   ],
   "source": [
    "inventory = Inventory('laptops.csv')                \n",
    "print(inventory.get_laptop_from_id_fast('3362737')) \n",
    "print(inventory.get_laptop_from_id_fast('0000000000')) "
   ]
  },
  {
   "cell_type": "markdown",
   "metadata": {},
   "source": [
    "### I created a O(1) complexity from a O(N) . Now  test the improved perfomance"
   ]
  },
  {
   "cell_type": "code",
   "execution_count": 10,
   "metadata": {},
   "outputs": [],
   "source": [
    "import time\n",
    "import random"
   ]
  },
  {
   "cell_type": "code",
   "execution_count": 11,
   "metadata": {},
   "outputs": [
    {
     "name": "stdout",
     "output_type": "stream",
     "text": [
      "Total time no dictionary: 1.0473113059997559\n",
      "Total time with dictionary: 0.004990339279174805\n",
      "\n",
      "209.9 Times faster with dictionary\n"
     ]
    }
   ],
   "source": [
    "ids = [str(random.randint(1000000, 9999999)) for _ in range(10000)] \n",
    "\n",
    "inventory = Inventory('laptops.csv')                                \n",
    "\n",
    "total_time_no_dict = 0                                             \n",
    "for i in ids:                                              \n",
    "    start = time.time()                                             \n",
    "    inventory.get_laptop_from_id(i)                        \n",
    "    end = time.time()                                               \n",
    "    total_time_no_dict += end - start                               \n",
    "    \n",
    "total_time_dict = 0                                                \n",
    "for i in ids:                                              \n",
    "    start = time.time()                                             \n",
    "    inventory.get_laptop_from_id_fast(i)                   \n",
    "    end = time.time()                                               \n",
    "    total_time_dict += end - start                                  \n",
    "    \n",
    "print(\"Total time no dictionary: \"+ str(total_time_no_dict)  )                                        \n",
    "print(\"Total time with dictionary: \"+ str(total_time_dict) + \"\\n\")\n",
    "print(str(round(total_time_no_dict/total_time_dict,1)) + \" Times faster with dictionary\")"
   ]
  },
  {
   "cell_type": "markdown",
   "metadata": {},
   "source": [
    "### Create new promotion lookup method"
   ]
  },
  {
   "cell_type": "code",
   "execution_count": 12,
   "metadata": {},
   "outputs": [],
   "source": [
    "class Inventory():                 \n",
    "    def __init__(self, csv_filename):\n",
    "        with open(csv_filename) as f: \n",
    "            reader = csv.reader(f)\n",
    "            rows = list(reader)\n",
    "        self.header = rows[0]        \n",
    "        self.rows = rows[1:]\n",
    "        for row in self.rows:              \n",
    "            row[-1] = int(row[-1])\n",
    "        #create dictionary key = id    \n",
    "        self.id_to_row = {}                         \n",
    "        for row in self.rows:                      \n",
    "            self.id_to_row[row[0]] = row \n",
    "        #create set with all prices\n",
    "        self.prices = set()\n",
    "        for row in self.rows:\n",
    "            self.prices.add(row[-1])\n",
    "        \n",
    "    \n",
    "    def get_laptop_from_id(self, laptop_id):\n",
    "        for row in self.rows:                 \n",
    "            if row[0] == laptop_id:\n",
    "                return row\n",
    "        return None   \n",
    "    \n",
    "    def get_laptop_from_id_fast(self, laptop_id):   \n",
    "        if laptop_id in self.id_to_row:            \n",
    "            return self.id_to_row[laptop_id]\n",
    "        return None\n",
    "    \n",
    "    def check_promotion_dollars(self, dollars):\n",
    "        for row in self.rows:\n",
    "            if row[-1] == dollars:\n",
    "                return True\n",
    "        for row1 in self.rows:\n",
    "            for row2 in self.rows:\n",
    "                if row1[-1]+ row2[-1] == dollars:\n",
    "                    return True\n",
    "        return False\n",
    "    \n",
    "    def check_promotion_dollars_fast(self, dollars):\n",
    "        if dollars in self.prices:\n",
    "            return True\n",
    "        for price in self.prices:\n",
    "            if (dollars - price) in self.prices:\n",
    "                return True\n",
    "        return False      "
   ]
  },
  {
   "cell_type": "markdown",
   "metadata": {},
   "source": [
    "I implemented a fast lookup by substracting price from budget and perform lookup afterwards"
   ]
  },
  {
   "cell_type": "code",
   "execution_count": 12,
   "metadata": {},
   "outputs": [
    {
     "name": "stdout",
     "output_type": "stream",
     "text": [
      "True\n",
      "False\n",
      "True\n",
      "False\n"
     ]
    }
   ],
   "source": [
    "#Test new promotion method\n",
    "inventory = Inventory('laptops.csv')     \n",
    "print(inventory.check_promotion_dollars(1000))\n",
    "print(inventory.check_promotion_dollars(442))\n",
    "#Test fast method\n",
    "print(inventory.check_promotion_dollars_fast(1000))\n",
    "print(inventory.check_promotion_dollars_fast(442))"
   ]
  },
  {
   "cell_type": "markdown",
   "metadata": {},
   "source": [
    "Compare performance of different search promotion methods"
   ]
  },
  {
   "cell_type": "code",
   "execution_count": 13,
   "metadata": {},
   "outputs": [],
   "source": [
    "#Create list of 100 random prices\n",
    "prices = [random.randint(100,5000) for _ in range(100)]"
   ]
  },
  {
   "cell_type": "code",
   "execution_count": 14,
   "metadata": {},
   "outputs": [
    {
     "name": "stdout",
     "output_type": "stream",
     "text": [
      "Total time no set: 2.5700058937072754\n",
      "Total time set: 0.0009975433349609375\n",
      "\n",
      "2576.3 Times faster with set\n"
     ]
    }
   ],
   "source": [
    "#Create new Instance and clock performance\n",
    "\n",
    "inventory = Inventory('laptops.csv')     \n",
    "\n",
    "total_time_no_set = 0\n",
    "for p in prices:\n",
    "    start = time.time()\n",
    "    inventory.check_promotion_dollars(p)\n",
    "    end = time.time()\n",
    "    total_time_no_set += (end-start)\n",
    "    \n",
    "total_time_set = 0    \n",
    "for p in prices:\n",
    "    start = time.time()\n",
    "    inventory.check_promotion_dollars_fast(p)\n",
    "    end = time.time()\n",
    "    total_time_set += (end-start)    \n",
    "\n",
    "print(\"Total time no set: \"+ str(total_time_no_set)  )                                        \n",
    "print(\"Total time set: \"+ str(total_time_set) + \"\\n\")\n",
    "print(str(round(total_time_no_set/total_time_set,1)) + \" Times faster with set\")\n"
   ]
  },
  {
   "cell_type": "markdown",
   "metadata": {},
   "source": [
    "### Implement Binairy search to search for the first laptop out of budget"
   ]
  },
  {
   "cell_type": "code",
   "execution_count": 15,
   "metadata": {},
   "outputs": [],
   "source": [
    "def row_price(row):\n",
    "    return row[-1]\n",
    "\n",
    "class Inventory():                 \n",
    "    def __init__(self, csv_filename):\n",
    "        with open(csv_filename) as f: \n",
    "            reader = csv.reader(f)\n",
    "            rows = list(reader)\n",
    "        self.header = rows[0]        \n",
    "        self.rows = rows[1:]\n",
    "        for row in self.rows:              \n",
    "            row[-1] = int(row[-1])\n",
    "        #create dictionary key = id    \n",
    "        self.id_to_row = {}                         \n",
    "        for row in self.rows:                      \n",
    "            self.id_to_row[row[0]] = row \n",
    "        #create set with all prices\n",
    "        self.prices = set()\n",
    "        for row in self.rows:\n",
    "            self.prices.add(row[-1])\n",
    "        #sort rows by price custom key in separate function\n",
    "        self.rows_by_price = sorted(self.rows, key = row_price)\n",
    "        \n",
    "    \n",
    "    def get_laptop_from_id(self, laptop_id):\n",
    "        for row in self.rows:                 \n",
    "            if row[0] == laptop_id:\n",
    "                return row\n",
    "        return None   \n",
    "    \n",
    "    def get_laptop_from_id_fast(self, laptop_id):   \n",
    "        if laptop_id in self.id_to_row:            \n",
    "            return self.id_to_row[laptop_id]\n",
    "        return None\n",
    "    \n",
    "    def check_promotion_dollars(self, dollars):\n",
    "        for row in self.rows:\n",
    "            if row[-1] == dollars:\n",
    "                return True\n",
    "        for row1 in self.rows:\n",
    "            for row2 in self.rows:\n",
    "                if row1[-1]+ row2[-1] == dollars:\n",
    "                    return True\n",
    "        return False\n",
    "    \n",
    "    def check_promotion_dollars_fast(self, dollars):\n",
    "        if dollars in self.prices:\n",
    "            return True\n",
    "        for price in self.prices:\n",
    "            if (dollars - price) in self.prices:\n",
    "                return True\n",
    "        return False\n",
    "    \n",
    "    def find_first_laptop_more_expensive(self, target_price): \n",
    "        range_start = 0                                   \n",
    "        range_end = len(self.rows_by_price) - 1                   \n",
    "        while range_start < range_end:\n",
    "            range_middle = (range_end + range_start) // 2  \n",
    "            price = self.rows_by_price[range_middle][-1]\n",
    "            if price > target_price:\n",
    "                range_end = range_middle\n",
    "            else:\n",
    "                range_start = range_middle + 1\n",
    "        if self.rows_by_price[range_start][-1] <= target_price:                  \n",
    "            return -1                                   \n",
    "        print(self.rows_by_price[range_start])"
   ]
  },
  {
   "cell_type": "code",
   "execution_count": 16,
   "metadata": {},
   "outputs": [
    {
     "name": "stdout",
     "output_type": "stream",
     "text": [
      "['8747948', 'Lenovo', 'ThinkPad T460', 'Notebook', '14', '1366x768', 'Intel Core i5 6200U 2.3GHz', '4GB', '508GB Hybrid', 'Intel HD Graphics 520', 'Windows 7', '1.70kg', 1002]\n",
      "None\n",
      "-1\n"
     ]
    }
   ],
   "source": [
    "inventory = Inventory('laptops.csv')                              \n",
    "print(inventory.find_first_laptop_more_expensive(1000))  \n",
    "print(inventory.find_first_laptop_more_expensive(10000)) "
   ]
  },
  {
   "cell_type": "code",
   "execution_count": null,
   "metadata": {},
   "outputs": [],
   "source": []
  }
 ],
 "metadata": {
  "kernelspec": {
   "display_name": "Python 3",
   "language": "python",
   "name": "python3"
  },
  "language_info": {
   "codemirror_mode": {
    "name": "ipython",
    "version": 3
   },
   "file_extension": ".py",
   "mimetype": "text/x-python",
   "name": "python",
   "nbconvert_exporter": "python",
   "pygments_lexer": "ipython3",
   "version": "3.7.4"
  }
 },
 "nbformat": 4,
 "nbformat_minor": 2
}
